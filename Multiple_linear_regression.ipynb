{
  "nbformat": 4,
  "nbformat_minor": 0,
  "metadata": {
    "colab": {
      "provenance": [],
      "authorship_tag": "ABX9TyNfrFQhyHBmfeOsnqaqKuRq",
      "include_colab_link": true
    },
    "kernelspec": {
      "name": "python3",
      "display_name": "Python 3"
    },
    "language_info": {
      "name": "python"
    }
  },
  "cells": [
    {
      "cell_type": "markdown",
      "metadata": {
        "id": "view-in-github",
        "colab_type": "text"
      },
      "source": [
        "<a href=\"https://colab.research.google.com/github/Naresh-812/Introduction_to_ML/blob/main/Multiple_linear_regression.ipynb\" target=\"_parent\"><img src=\"https://colab.research.google.com/assets/colab-badge.svg\" alt=\"Open In Colab\"/></a>"
      ]
    },
    {
      "cell_type": "code",
      "execution_count": 1,
      "metadata": {
        "colab": {
          "base_uri": "https://localhost:8080/"
        },
        "id": "OadusbaXn9c_",
        "outputId": "18140d9d-31ed-406b-949e-587506c9d8bb"
      },
      "outputs": [
        {
          "output_type": "stream",
          "name": "stdout",
          "text": [
            "value of b0= 2.7995611285266406\n",
            "value of b1= 2.2816300940438885\n",
            "value of b2= -1.6721003134796237\n",
            "r2= 0.9999489636085633\n",
            "vif= 19593.86178862144\n",
            "cost function= 0.001233855799373047\n",
            "time taken= 0.016926050186157227\n"
          ]
        }
      ],
      "source": [
        "#Code for multiple liner regression without inbuilt libraries\n",
        "import numpy as np\n",
        "import matplotlib.pyplot as plt\n",
        "import time\n",
        "#inputs given\n",
        "start_time=time.time()\n",
        "x=np.array([3,4,5,6,2])\n",
        "y=np.array([-3.7,3.5,2.5,11.5,5.7])\n",
        "n=len(y)\n",
        "X1=np.array([3,4,5,6,2])\n",
        "X2=np.array([8,5,7,3,1])\n",
        "#square the inputs\n",
        "X1_sq=X1**2\n",
        "X2_sq=X2**2\n",
        "#x1 multiply with y\n",
        "X1_y=X1*y\n",
        "#x2 multiply with y\n",
        "X2_y=X2*y\n",
        "#multiplication both X1and X2\n",
        "X1X2=X1*X2\n",
        "\n",
        "#calculation small x1y x2y etc..\n",
        "sum_x1y=X1_y.sum()-(X1.sum()*y.mean())\n",
        "sum_x2y=X2_y.sum()-(X2.sum()*y.mean())\n",
        "small_x1_sq=X1_sq.sum()-((X1.sum()**2)/n)\n",
        "small_x2_sq=X2_sq.sum()-((X2.sum()**2)/n)\n",
        "small_x1x2=X1X2.sum()-((X1.sum()*X2.sum())/n)\n",
        "\n",
        "#calculating b0,b1,b2 for y predicted\n",
        "b1=(sum_x1y*small_x2_sq-small_x1x2*sum_x2y)/(small_x1_sq*small_x2_sq-small_x1x2**2)\n",
        "b2=(sum_x2y*small_x1_sq-sum_x1y*small_x1x2)/(small_x1_sq*small_x2_sq-small_x1x2**2)\n",
        "b0=y.mean()-b1*(X1.mean())-b2*(X2.mean())\n",
        "\n",
        "#printing the values of b0,b1,b2\n",
        "print(\"value of b0=\",b0)\n",
        "print(\"value of b1=\",b1)\n",
        "print(\"value of b2=\",b2)\n",
        "yeq=(b0+b1*X1+b2*X2)\n",
        "#for calculating vif\n",
        "#first we need to caluculate r2\n",
        "ssred=((y-yeq)**2)\n",
        "sstot=((y-yeq.mean())**2)\n",
        "r2=1-(ssred.sum()/sstot.sum())\n",
        "print(\"r2=\",r2)\n",
        "vif=1/(1-r2)\n",
        "print(\"vif=\",vif)\n",
        "#for calculating cost function\n",
        "temp=np.sum(np.square(y-yeq))\n",
        "cost=(1/n)*temp\n",
        "print(\"cost function=\",cost)\n",
        "end_time=time.time()\n",
        "print(\"time taken=\",end_time-start_time)\n"
      ]
    },
    {
      "cell_type": "code",
      "source": [
        "import numpy as np\n",
        "import pandas as pd\n",
        "from sklearn.linear_model import LinearRegression\n",
        "from sklearn.metrics import r2_score, mean_squared_error\n",
        "from statsmodels.stats.outliers_influence import variance_inflation_factor\n",
        "import statsmodels.api as sm\n",
        "\n",
        "# Step 1: Define the dataset\n",
        "data = {\n",
        "    'x1': [3, 4, 5, 6, 2],\n",
        "    'x2': [8, 5, 7, 3, 1],\n",
        "    'y':  [-3.7, 3.5, 2.5, 11.5, 5.7]\n",
        "}\n",
        "\n",
        "df = pd.DataFrame(data)\n",
        "\n",
        "# Step 2: Features and Target\n",
        "X = df[['x1', 'x2']]\n",
        "y = df['y']\n",
        "\n",
        "# Step 3: Model Training\n",
        "model = LinearRegression()\n",
        "model.fit(X, y)\n",
        "\n",
        "# Step 4: Get coefficients\n",
        "b0 = model.intercept_\n",
        "b1, b2 = model.coef_\n",
        "\n",
        "print(\"Regression Coefficients:\")\n",
        "print(f\"  Intercept (b0): {b0:.4f}\")\n",
        "print(f\"  Coefficient x1 (b1): {b1:.4f}\")\n",
        "print(f\"  Coefficient x2 (b2): {b2:.4f}\")\n",
        "\n",
        "# Step 5: Model Evaluation\n",
        "y_pred = model.predict(X)\n",
        "r2 = r2_score(y, y_pred)\n",
        "mse = mean_squared_error(y, y_pred)\n",
        "rss = np.sum((y - y_pred) ** 2)\n",
        "\n",
        "print(\"\\nModel Evaluation:\")\n",
        "print(f\"  R² Score: {r2:.4f}\")\n",
        "print(f\"  Mean Squared Error (Cost Function): {mse:.4f}\")\n",
        "print(f\"  Residual Sum of Squares (RSS): {rss:.4f}\")\n",
        "\n",
        "# Step 6: Variance Inflation Factor (VIF)\n",
        "# Add constant for statsmodels\n",
        "X_with_const = sm.add_constant(X)\n",
        "vif_data = pd.DataFrame()\n",
        "vif_data[\"feature\"] = X_with_const.columns\n",
        "vif_data[\"VIF\"] = [variance_inflation_factor(X_with_const.values, i)\n",
        "                   for i in range(X_with_const.shape[1])]\n",
        "\n",
        "print(\"\\nVariance Inflation Factor (VIF):\")\n",
        "print(vif_data)\n"
      ],
      "metadata": {
        "colab": {
          "base_uri": "https://localhost:8080/"
        },
        "id": "ScbBcz0XoME0",
        "outputId": "c0c10a8a-14da-4a8a-e565-5c6535513614"
      },
      "execution_count": 3,
      "outputs": [
        {
          "output_type": "stream",
          "name": "stdout",
          "text": [
            "Regression Coefficients:\n",
            "  Intercept (b0): 2.7996\n",
            "  Coefficient x1 (b1): 2.2816\n",
            "  Coefficient x2 (b2): -1.6721\n",
            "\n",
            "Model Evaluation:\n",
            "  R² Score: 0.9999\n",
            "  Mean Squared Error (Cost Function): 0.0012\n",
            "  Residual Sum of Squares (RSS): 0.0062\n",
            "\n",
            "Variance Inflation Factor (VIF):\n",
            "  feature        VIF\n",
            "0   const  11.031348\n",
            "1      x1   1.028213\n",
            "2      x2   1.028213\n"
          ]
        }
      ]
    }
  ]
}