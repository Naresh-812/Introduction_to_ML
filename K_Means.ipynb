{
  "nbformat": 4,
  "nbformat_minor": 0,
  "metadata": {
    "colab": {
      "provenance": [],
      "authorship_tag": "ABX9TyP2D0+lZBRVZkpNxIM0nLoZ",
      "include_colab_link": true
    },
    "kernelspec": {
      "name": "python3",
      "display_name": "Python 3"
    },
    "language_info": {
      "name": "python"
    }
  },
  "cells": [
    {
      "cell_type": "markdown",
      "metadata": {
        "id": "view-in-github",
        "colab_type": "text"
      },
      "source": [
        "<a href=\"https://colab.research.google.com/github/Naresh-812/Introduction_to_ML/blob/main/K_Means.ipynb\" target=\"_parent\"><img src=\"https://colab.research.google.com/assets/colab-badge.svg\" alt=\"Open In Colab\"/></a>"
      ]
    },
    {
      "cell_type": "code",
      "execution_count": 1,
      "metadata": {
        "colab": {
          "base_uri": "https://localhost:8080/"
        },
        "id": "As5WwmZyCJE0",
        "outputId": "f7dacade-2a23-4b4b-8732-67ccd92943e4"
      },
      "outputs": [
        {
          "output_type": "stream",
          "name": "stdout",
          "text": [
            "done\n",
            "cluster1= [ 2  3  4 10 11 12]\n",
            "cluster2= [20 25 30]\n",
            "m1= 7.0\n",
            "m2= 25.0\n"
          ]
        }
      ],
      "source": [
        "\n",
        "#k-means alogorith for 1d for 2 clusters\n",
        "import numpy as np\n",
        "data=np.array([2,3,4,10,11,12,20,25,30])\n",
        "k=2#no of clusters\n",
        "#initial centriodseeeeeeeeeeeeee\n",
        "m1=data[0]\n",
        "m2=data[-1]\n",
        "c1_mean=0\n",
        "c2_mean=0\n",
        "while True:\n",
        "#for calaculating distance and divinding clusters\n",
        "  abs_dist1=np.abs(data-m1)\n",
        "  abs_dist2=np.abs(data-m2)\n",
        "\n",
        "  c1=[]\n",
        "  c2=[]\n",
        "  for i in range(len(data)):\n",
        "    if abs_dist1[i]<abs_dist2[i]:#decideing which cluster it has to belongs\n",
        "      c1.append(data[i])\n",
        "\n",
        "    else:\n",
        "      c2.append(data[i])\n",
        "\n",
        "  c2=np.array(c2)\n",
        "\n",
        "  c1=np.array(c1)\n",
        "  c1_mean=c1.mean()\n",
        "  c2_mean=c2.mean()\n",
        "  if c1_mean==m1 and c2_mean==m2:\n",
        "    print(\"done\")\n",
        "    break\n",
        "  else:\n",
        "    m1=c1_mean\n",
        "    m2=c2_mean\n",
        "\n",
        "print(\"cluster1=\",c1)\n",
        "print(\"cluster2=\",c2)\n",
        "print(\"m1=\",m1)\n",
        "print(\"m2=\",m2)"
      ]
    },
    {
      "cell_type": "code",
      "source": [
        "\n",
        "#k means for 2D arrays\n",
        "import numpy as np\n",
        "import matplotlib.pyplot as plt\n",
        "data=np.array([[2,3],[5,6],[8,7],[1,4],[2,2],[6,7],[3,4],[8,6]])\n",
        "m1=data[0]\n",
        "m2=data[3]\n",
        "\n",
        "while True:\n",
        "  cl_1=[]\n",
        "  cl_2=[]\n",
        "  diff1=data-m1\n",
        "  diff2=data-m2\n",
        "  dist1=np.sqrt(np.sum(diff1**2,axis=1))\n",
        "  dist2=np.sqrt(np.sum(diff2**2,axis=1))\n",
        "  for i in range(len(data)):\n",
        "    if dist1[i]<dist2[i]:\n",
        "      cl_1.append(data[i])\n",
        "    else:\n",
        "      cl_2.append(data[i])\n",
        "  cl_1=np.array(cl_1)\n",
        "  print(\"one cluster=\",cl_1)\n",
        "  print(\"end\")\n",
        "  cl_2=np.array(cl_2)\n",
        "  print(\"another cluster\",cl_2)\n",
        "  print(\"end\")\n",
        "  c1_mean=np.mean(cl_1,axis=0)\n",
        "  print(\"c1 mean\",c1_mean)\n",
        "  c2_mean=np.mean(cl_2,axis=0)\n",
        "  print(\"c2 mean\",c2_mean)\n",
        "  print(\"iteration completed\")\n",
        "  if np.array_equal(c1_mean, m1) and np.array_equal(c2_mean, m2):\n",
        "\n",
        "    print(\"done\")\n",
        "    break\n",
        "  else:\n",
        "    m1=c1_mean\n",
        "    m2=c2_mean"
      ],
      "metadata": {
        "colab": {
          "base_uri": "https://localhost:8080/"
        },
        "id": "AW491KGqCjcz",
        "outputId": "d754539c-a438-43ab-dedf-0a5e17cdc371"
      },
      "execution_count": 2,
      "outputs": [
        {
          "output_type": "stream",
          "name": "stdout",
          "text": [
            "one cluster= [[2 3]\n",
            " [5 6]\n",
            " [8 7]\n",
            " [2 2]\n",
            " [6 7]\n",
            " [3 4]\n",
            " [8 6]]\n",
            "end\n",
            "another cluster [[1 4]]\n",
            "end\n",
            "c1 mean [4.85714286 5.        ]\n",
            "c2 mean [1. 4.]\n",
            "iteration completed\n",
            "one cluster= [[5 6]\n",
            " [8 7]\n",
            " [6 7]\n",
            " [8 6]]\n",
            "end\n",
            "another cluster [[2 3]\n",
            " [1 4]\n",
            " [2 2]\n",
            " [3 4]]\n",
            "end\n",
            "c1 mean [6.75 6.5 ]\n",
            "c2 mean [2.   3.25]\n",
            "iteration completed\n",
            "one cluster= [[5 6]\n",
            " [8 7]\n",
            " [6 7]\n",
            " [8 6]]\n",
            "end\n",
            "another cluster [[2 3]\n",
            " [1 4]\n",
            " [2 2]\n",
            " [3 4]]\n",
            "end\n",
            "c1 mean [6.75 6.5 ]\n",
            "c2 mean [2.   3.25]\n",
            "iteration completed\n",
            "done\n"
          ]
        }
      ]
    },
    {
      "cell_type": "code",
      "source": [],
      "metadata": {
        "id": "uEdcyGt0Ct1R"
      },
      "execution_count": 2,
      "outputs": []
    }
  ]
}